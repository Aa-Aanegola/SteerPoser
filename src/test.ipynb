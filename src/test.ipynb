{
 "cells": [
  {
   "cell_type": "code",
   "execution_count": 1,
   "id": "a6eceebe",
   "metadata": {},
   "outputs": [
    {
     "name": "stdout",
     "output_type": "stream",
     "text": [
      "/usr/local/cuda/lib64:/usr/local/nccl2/lib:/usr/local/cuda/extras/CUPTI/lib64:/usr/local/cuda/lib64:/usr/local/nccl2/lib:/usr/local/cuda/extras/CUPTI/lib64:/home/aa-aanegola/CoppeliaSim\n",
      "/usr/lib/x86_64-linux-gnu/libffi.so.7\n"
     ]
    }
   ],
   "source": [
    "import os \n",
    "\n",
    "print(os.getenv(\"LD_LIBRARY_PATH\"))\n",
    "print(os.getenv(\"LD_PRELOAD\"))"
   ]
  },
  {
   "cell_type": "code",
   "execution_count": 2,
   "id": "7742e7d5",
   "metadata": {},
   "outputs": [
    {
     "name": "stderr",
     "output_type": "stream",
     "text": [
      "(EE) \n",
      "Fatal server error:\n",
      "(EE) Server is already active for display 99\n",
      "\tIf this server is no longer running, remove /tmp/.X99-lock\n",
      "\tand start again.\n",
      "(EE) \n"
     ]
    },
    {
     "name": "stdout",
     "output_type": "stream",
     "text": [
      "OpenGL renderer string: llvmpipe (LLVM 11.0.1, 256 bits)\n",
      "OpenGL version string: 3.1 Mesa 20.3.5\n",
      "GLX version: 1.4\n"
     ]
    }
   ],
   "source": [
    "import subprocess\n",
    "import os\n",
    "import time\n",
    "\n",
    "# Start Xvfb in the background on display :99\n",
    "subprocess.Popen(['Xvfb', ':99', '-screen', '0', '1280x1024x24', '+extension', 'GLX', '+render', '-noreset'])\n",
    "\n",
    "# Wait for Xvfb to initialize (give it a couple of seconds)\n",
    "time.sleep(2)\n",
    "\n",
    "# Set the DISPLAY environment variable globally for the notebook session\n",
    "os.environ['DISPLAY'] = ':99'\n",
    "\n",
    "!glxinfo | grep 'OpenGL renderer string'\n",
    "!glxinfo | grep 'OpenGL version string'\n",
    "!glxinfo | grep 'GLX version'"
   ]
  },
  {
   "cell_type": "code",
   "execution_count": 3,
   "id": "43fc703c",
   "metadata": {},
   "outputs": [],
   "source": [
    "import numpy as np\n",
    "from rlbench.action_modes.action_mode import MoveArmThenGripper\n",
    "from rlbench.action_modes.arm_action_modes import JointVelocity\n",
    "from rlbench.action_modes.gripper_action_modes import Discrete\n",
    "from rlbench.environment import Environment\n",
    "from rlbench.tasks import FS10_V1\n",
    "\n",
    "action_mode = MoveArmThenGripper(\n",
    "  arm_action_mode=JointVelocity(),\n",
    "  gripper_action_mode=Discrete()\n",
    ")\n",
    "env = Environment(action_mode)\n",
    "env.launch()\n",
    "\n",
    "train_tasks = FS10_V1['train']\n",
    "test_tasks = FS10_V1['test']\n",
    "task_to_train = np.random.choice(train_tasks, 1)[0]\n",
    "task = env.get_task(task_to_train)\n",
    "task.sample_variation()  # random variation\n",
    "descriptions, obs = task.reset()\n",
    "obs, reward, terminate = task.step(np.random.normal(size=env.action_shape))"
   ]
  },
  {
   "cell_type": "code",
   "execution_count": null,
   "id": "a82cad88",
   "metadata": {},
   "outputs": [],
   "source": []
  }
 ],
 "metadata": {
  "kernelspec": {
   "display_name": "rlben",
   "language": "python",
   "name": "python3"
  },
  "language_info": {
   "codemirror_mode": {
    "name": "ipython",
    "version": 3
   },
   "file_extension": ".py",
   "mimetype": "text/x-python",
   "name": "python",
   "nbconvert_exporter": "python",
   "pygments_lexer": "ipython3",
   "version": "3.9.21"
  }
 },
 "nbformat": 4,
 "nbformat_minor": 5
}
